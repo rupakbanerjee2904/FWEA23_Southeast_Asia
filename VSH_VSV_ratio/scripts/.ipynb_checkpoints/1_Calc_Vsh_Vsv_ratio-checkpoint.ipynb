{
 "cells": [
  {
   "cell_type": "markdown",
   "id": "cc127508",
   "metadata": {},
   "source": [
    "# This script extracts VSH and VSV values and then find their ratios"
   ]
  },
  {
   "cell_type": "code",
   "execution_count": 1,
   "id": "e09bb38c",
   "metadata": {},
   "outputs": [
    {
     "name": "stdout",
     "output_type": "stream",
     "text": [
      "reading file:/media/rupak/Rupak_4TB/BACKUPS/MANUSCRIPTS_Rupak/SE_ASIA_MANU_DRAFTS/MERGED/Manu_figs_organised/text_fig/GitHub_upload/model/FWEA23.r0.0-n4.nc\n",
      "Shape of lon array:(341,)\n",
      "Shape of lat array:(241,)\n",
      "Shape of dp array:(101,)\n",
      "Shape of vsh array:(101, 241, 341)\n",
      "\n",
      "175 has index no of 17\n",
      "testing...\n",
      "The user is looking for 170.0 km information\n",
      "\n",
      "Output:/media/rupak/Rupak_4TB/BACKUPS/MANUSCRIPTS_Rupak/SE_ASIA_MANU_DRAFTS/MERGED/Manu_figs_organised/text_fig/GitHub_upload/VSH_VSV_ratio/files/VSH_VSV_ratio_175_km\n"
     ]
    }
   ],
   "source": [
    "import os\n",
    "from netCDF4 import Dataset\n",
    "import numpy as np\n",
    "\n",
    "dpath=f'/media/rupak/Rupak_4TB/BACKUPS/MANUSCRIPTS_Rupak/SE_ASIA_MANU_DRAFTS/MERGED/Manu_figs_organised/text_fig/GitHub_upload/model'\n",
    "\n",
    "data=os.path.join(dpath,f'FWEA23.r0.0-n4.nc')\n",
    "print(f'reading file:{data}')\n",
    "\n",
    "nc_f=Dataset(data,'r')\n",
    "\n",
    "lon=nc_f.variables['longitude'][:]\n",
    "lat=nc_f.variables['latitude'][:]\n",
    "dp=nc_f.variables['depth'][:]\n",
    "vsh=nc_f.variables['vsh'][:]\n",
    "vsv=nc_f.variables['vsv'][:]\n",
    "\n",
    "#arrays\n",
    "lon_array=np.array(lon)\n",
    "lat_array=np.array(lat)\n",
    "dp_array=np.array(dp)\n",
    "vsh_array=np.array(vsh)\n",
    "vsv_array=np.array(vsv)\n",
    "\n",
    "#shape\n",
    "print(f'Shape of lon array:{lon_array.shape}')\n",
    "print(f'Shape of lat array:{lat_array.shape}')\n",
    "print(f'Shape of dp array:{dp_array.shape}')\n",
    "print(f'Shape of vsh array:{vsh_array.shape}')\n",
    "\n",
    "usr_dp=175  ##user fed depth for which ratio is required\n",
    "\n",
    "dp_idx=np.abs(usr_dp-dp_array).argmin()\n",
    "print(f\"\")\n",
    "print(f'{usr_dp} has index no of {dp_idx}')\n",
    "print(f\"testing...\")\n",
    "print(f\"The user is looking for {dp_array[dp_idx]} km information\")\n",
    "print(f\"\")\n",
    "\n",
    "#extracting \n",
    "opath=f'/media/rupak/Rupak_4TB/BACKUPS/MANUSCRIPTS_Rupak/SE_ASIA_MANU_DRAFTS/MERGED/Manu_figs_organised/text_fig/GitHub_upload/VSH_VSV_ratio/files'\n",
    "out=os.path.join(opath,f\"VSH_VSV_ratio_{usr_dp}_km\")\n",
    "with open(out,'w') as fi:\n",
    "    for i in range(len(lat_array)):\n",
    "        for j in range(len(lon_array)):\n",
    "            #print(f\"lon:{lon_array[j]} lat:{lat_array[i]} vsh:{vsh_array[dp_idx,i,j]} vsv:{vsv_array[dp_idx,i,j]} xi:{vsh_array[dp_idx,i,j]}/{vsv_array[dp_idx,i,j]}\")\n",
    "            vsh_value = vsh_array[dp_idx, i, j]\n",
    "            vsv_value= vsv_array[dp_idx,i,j]\n",
    "            xi= vsh_value/vsv_value\n",
    "            fi.write(f\"{lon_array[j]} {lat_array[i]} {vsh_value} {vsv_value} {xi}\\n\")\n",
    "            \n",
    "print(f\"Output:{out}\")"
   ]
  },
  {
   "cell_type": "code",
   "execution_count": null,
   "id": "c3c57140",
   "metadata": {},
   "outputs": [],
   "source": []
  }
 ],
 "metadata": {
  "kernelspec": {
   "display_name": "Python 3 (ipykernel)",
   "language": "python",
   "name": "python3"
  },
  "language_info": {
   "codemirror_mode": {
    "name": "ipython",
    "version": 3
   },
   "file_extension": ".py",
   "mimetype": "text/x-python",
   "name": "python",
   "nbconvert_exporter": "python",
   "pygments_lexer": "ipython3",
   "version": "3.9.12"
  }
 },
 "nbformat": 4,
 "nbformat_minor": 5
}
