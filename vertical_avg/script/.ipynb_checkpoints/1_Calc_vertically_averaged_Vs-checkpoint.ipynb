{
 "cells": [
  {
   "cell_type": "markdown",
   "id": "e447c542",
   "metadata": {},
   "source": [
    "# This script calculates the mean Vs in vertical direction"
   ]
  },
  {
   "cell_type": "code",
   "execution_count": 7,
   "id": "63e48263",
   "metadata": {},
   "outputs": [
    {
     "name": "stdout",
     "output_type": "stream",
     "text": [
      "depth : 140\n",
      "depth : 150\n",
      "depth : 180\n",
      "depth : 200\n",
      "depth : 220\n",
      "\n",
      "Output file: /media/rupak/Rupak_4TB/BACKUPS/FWI/average_plot/abs_Vs/v5/vertical_avg/files/vertically_avg_Vs_140_to_220_km.txt\n",
      "\n",
      "Smallest average Vs value: 4.2392321419443\n",
      "Smallest vertically avg Vs (140 to 220) saved at /media/rupak/Rupak_4TB/BACKUPS/FWI/average_plot/abs_Vs/v5/vertical_avg/files/smallest_avgVs_140_to_220_km.txt\n"
     ]
    }
   ],
   "source": [
    "import os\n",
    "import matplotlib.pyplot as plt\n",
    "import numpy as np\n",
    "\n",
    "datapath=f'/media/rupak/Rupak_4TB/BACKUPS/FWI/FWEA23_IRIS'\n",
    "\n",
    "#dp=[80,100,120,150,180,200,220,250] #feed the depth values for ehich you want to calculate vertical avg\n",
    "dp=[140,150,180,200,220]\n",
    "vs_dict={}\n",
    "count_dict={}\n",
    "\n",
    "sum=[]\n",
    "for depth in dp:\n",
    "    print(f'depth : {depth}')\n",
    "    \n",
    "    #file=f'tmp_FWEA23_lon_lat_Vs_{depth}_final.txt'\n",
    "    file=os.path.join(datapath,f'FWEA23_lon_lat_Vs_{depth}_final.txt')\n",
    "    #print(f'file : {file}')\n",
    "    \n",
    "    with open (file,'r') as fname:\n",
    "        for line in fname:\n",
    "            row=line.strip().split()\n",
    "            lon=float(row[0])\n",
    "            lat=float(row[1])\n",
    "            vs=float(row[2])\n",
    "            #print(f'lon:{lon} lat:{lat} vs:{vs}')\n",
    "            \n",
    "            key=(lon,lat)\n",
    "            #print(f'key:{key}')\n",
    "            \n",
    "            if key in vs_dict:\n",
    "                vs_dict[key] += vs\n",
    "                count_dict[key] += 1\n",
    "                \n",
    "            else:\n",
    "                vs_dict[key]= vs\n",
    "                count_dict[key]= 1\n",
    "                \n",
    "                \n",
    "average_vs_dict={key:vs_dict[key]/len(dp) for key in vs_dict}\n",
    "\n",
    "first_dp=dp[0]\n",
    "final_dp=dp[-1]\n",
    "#out_file=f'vertically_avg_Vs_upto_{final_dp}_km.txt'\n",
    "datapath_out=f'/media/rupak/Rupak_4TB/BACKUPS/FWI/average_plot/abs_Vs/v5/vertical_avg/files'\n",
    "out_file=os.path.join(datapath_out,f'vertically_avg_Vs_{first_dp}_to_{final_dp}_km.txt')\n",
    "with open(out_file,'w') as fl:\n",
    "    for key,avg_vs in average_vs_dict.items():\n",
    "        lon,lat = key\n",
    "    \n",
    "        #print(f'lon: {lon} lat: {lat} avg_vs: {avg_vs}')\n",
    "    \n",
    "        fl.write(f'{lon} {lat} {avg_vs}\\n')  \n",
    "\n",
    "print(f\"\")\n",
    "print(f'Output file: {out_file}')\n",
    "print(f\"\")\n",
    "\n",
    "          # Find the smallest average Vs value\n",
    "smallest_avg_vs = None\n",
    "for avg_vs in average_vs_dict.values():\n",
    "    if smallest_avg_vs is None or avg_vs < smallest_avg_vs:\n",
    "        smallest_avg_vs = avg_vs\n",
    "\n",
    "# Write the smallest average Vs value to another file\n",
    "out_fl_two = os.path.join(datapath_out, f'smallest_avgVs_{first_dp}_to_{final_dp}_km.txt')\n",
    "with open(out_fl_two, 'w') as fle:\n",
    "    fle.write(f'{smallest_avg_vs}\\n')\n",
    "\n",
    "# Print the smallest average Vs value and file path\n",
    "print(f\"Smallest average Vs value: {smallest_avg_vs}\")\n",
    "print(f\"Smallest vertically avg Vs ({first_dp} to {final_dp}) saved at {out_fl_two}\")\n",
    "  "
   ]
  },
  {
   "cell_type": "code",
   "execution_count": null,
   "id": "34aa5420",
   "metadata": {},
   "outputs": [],
   "source": []
  }
 ],
 "metadata": {
  "kernelspec": {
   "display_name": "Python 3 (ipykernel)",
   "language": "python",
   "name": "python3"
  },
  "language_info": {
   "codemirror_mode": {
    "name": "ipython",
    "version": 3
   },
   "file_extension": ".py",
   "mimetype": "text/x-python",
   "name": "python",
   "nbconvert_exporter": "python",
   "pygments_lexer": "ipython3",
   "version": "3.9.12"
  }
 },
 "nbformat": 4,
 "nbformat_minor": 5
}
