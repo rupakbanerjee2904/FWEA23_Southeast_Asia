{
 "cells": [
  {
   "cell_type": "markdown",
   "id": "d87b927b",
   "metadata": {},
   "source": [
    "# This code calculates the vertical average of Vs"
   ]
  },
  {
   "cell_type": "code",
   "execution_count": 1,
   "id": "02b5cd8b",
   "metadata": {},
   "outputs": [],
   "source": [
    "#Input-GLAD_lon_lat_VoigtVs_*km.txt (these are out put from 0a_Extracting_Voigt_Vs_at_depths)"
   ]
  },
  {
   "cell_type": "code",
   "execution_count": 1,
   "id": "0b4392cc",
   "metadata": {},
   "outputs": [
    {
     "name": "stdout",
     "output_type": "stream",
     "text": [
      "Vertical averaging to be done over 100 km depth\n",
      "File for 100 km dp is:\n",
      "/media/rupak/Rupak_4TB/BACKUPS/MANUSCRIPTS_Rupak/SE_ASIA_MANU_DRAFTS/MERGED/Manu_figs_organised/text_fig/GitHub_upload/GLAD-M25/files/GLAD_lon_lat_VoigtVs_100km.txt\n",
      "\n",
      "Vertical averaging to be done over 110 km depth\n",
      "File for 110 km dp is:\n",
      "/media/rupak/Rupak_4TB/BACKUPS/MANUSCRIPTS_Rupak/SE_ASIA_MANU_DRAFTS/MERGED/Manu_figs_organised/text_fig/GitHub_upload/GLAD-M25/files/GLAD_lon_lat_VoigtVs_110km.txt\n",
      "\n",
      "Vertical averaging to be done over 120 km depth\n",
      "File for 120 km dp is:\n",
      "/media/rupak/Rupak_4TB/BACKUPS/MANUSCRIPTS_Rupak/SE_ASIA_MANU_DRAFTS/MERGED/Manu_figs_organised/text_fig/GitHub_upload/GLAD-M25/files/GLAD_lon_lat_VoigtVs_120km.txt\n",
      "\n",
      "Vertical averaging to be done over 130 km depth\n",
      "File for 130 km dp is:\n",
      "/media/rupak/Rupak_4TB/BACKUPS/MANUSCRIPTS_Rupak/SE_ASIA_MANU_DRAFTS/MERGED/Manu_figs_organised/text_fig/GitHub_upload/GLAD-M25/files/GLAD_lon_lat_VoigtVs_130km.txt\n",
      "\n",
      "Vertical averaging to be done over 140 km depth\n",
      "File for 140 km dp is:\n",
      "/media/rupak/Rupak_4TB/BACKUPS/MANUSCRIPTS_Rupak/SE_ASIA_MANU_DRAFTS/MERGED/Manu_figs_organised/text_fig/GitHub_upload/GLAD-M25/files/GLAD_lon_lat_VoigtVs_140km.txt\n",
      "\n",
      "Vertical averaging to be done over 150 km depth\n",
      "File for 150 km dp is:\n",
      "/media/rupak/Rupak_4TB/BACKUPS/MANUSCRIPTS_Rupak/SE_ASIA_MANU_DRAFTS/MERGED/Manu_figs_organised/text_fig/GitHub_upload/GLAD-M25/files/GLAD_lon_lat_VoigtVs_150km.txt\n",
      "\n",
      "Vertical averaging to be done over 160 km depth\n",
      "File for 160 km dp is:\n",
      "/media/rupak/Rupak_4TB/BACKUPS/MANUSCRIPTS_Rupak/SE_ASIA_MANU_DRAFTS/MERGED/Manu_figs_organised/text_fig/GitHub_upload/GLAD-M25/files/GLAD_lon_lat_VoigtVs_160km.txt\n",
      "\n",
      "Vertical averaging to be done over 170 km depth\n",
      "File for 170 km dp is:\n",
      "/media/rupak/Rupak_4TB/BACKUPS/MANUSCRIPTS_Rupak/SE_ASIA_MANU_DRAFTS/MERGED/Manu_figs_organised/text_fig/GitHub_upload/GLAD-M25/files/GLAD_lon_lat_VoigtVs_170km.txt\n",
      "\n",
      "Vertical averaging to be done over 180 km depth\n",
      "File for 180 km dp is:\n",
      "/media/rupak/Rupak_4TB/BACKUPS/MANUSCRIPTS_Rupak/SE_ASIA_MANU_DRAFTS/MERGED/Manu_figs_organised/text_fig/GitHub_upload/GLAD-M25/files/GLAD_lon_lat_VoigtVs_180km.txt\n",
      "\n",
      "Vertical averaging to be done over 190 km depth\n",
      "File for 190 km dp is:\n",
      "/media/rupak/Rupak_4TB/BACKUPS/MANUSCRIPTS_Rupak/SE_ASIA_MANU_DRAFTS/MERGED/Manu_figs_organised/text_fig/GitHub_upload/GLAD-M25/files/GLAD_lon_lat_VoigtVs_190km.txt\n",
      "\n",
      "Vertical averaging to be done over 200 km depth\n",
      "File for 200 km dp is:\n",
      "/media/rupak/Rupak_4TB/BACKUPS/MANUSCRIPTS_Rupak/SE_ASIA_MANU_DRAFTS/MERGED/Manu_figs_organised/text_fig/GitHub_upload/GLAD-M25/files/GLAD_lon_lat_VoigtVs_200km.txt\n",
      "\n",
      "Vertical averaging to be done over 220 km depth\n",
      "File for 220 km dp is:\n",
      "/media/rupak/Rupak_4TB/BACKUPS/MANUSCRIPTS_Rupak/SE_ASIA_MANU_DRAFTS/MERGED/Manu_figs_organised/text_fig/GitHub_upload/GLAD-M25/files/GLAD_lon_lat_VoigtVs_220km.txt\n",
      "\n",
      "\n",
      "Output file: /media/rupak/Rupak_4TB/BACKUPS/MANUSCRIPTS_Rupak/SE_ASIA_MANU_DRAFTS/MERGED/Manu_figs_organised/text_fig/GitHub_upload/GLAD-M25/files/GLAD_vertically_avg_Vs_100_to_220_km.txt\n",
      "\n"
     ]
    }
   ],
   "source": [
    "import os\n",
    "dpath=f\"/media/rupak/Rupak_4TB/BACKUPS/MANUSCRIPTS_Rupak/SE_ASIA_MANU_DRAFTS/MERGED/Manu_figs_organised/text_fig/GitHub_upload/GLAD-M25/files\"\n",
    "\n",
    "vs_dict={}\n",
    "count_dict={}\n",
    "dp=[100,110,120,130,140,150,160,170,180,190,200,220]\n",
    "for i in dp:\n",
    "    fname=os.path.join(dpath,f\"GLAD_lon_lat_VoigtVs_{i}km.txt\")\n",
    "    print(f\"Vertical averaging to be done over {i} km depth\")\n",
    "    print(f\"File for {i} km dp is:\")\n",
    "    print(f\"{fname}\")\n",
    "    print(f\"\")\n",
    "    \n",
    "    with open (fname,'r') as file:\n",
    "        for line in file:\n",
    "            row=line.strip().split()\n",
    "            lon=float(row[0])\n",
    "            lat=float(row[1])\n",
    "            vs=float(row[2])\n",
    "            \n",
    "            #print(f\"{lon} {lat} {Vs}\")\n",
    "            \n",
    "            key=(lon,lat)\n",
    "            \n",
    "            if key in vs_dict:\n",
    "                vs_dict[key] += vs\n",
    "                count_dict[key] += 1\n",
    "            else:\n",
    "                vs_dict[key]= vs\n",
    "                count_dict[key]= 1\n",
    "                \n",
    "avg_Vs_dict={key:vs_dict[key]/len(dp) for key in vs_dict}               \n",
    "\n",
    "fdp=dp[0]\n",
    "edp=dp[-1]\n",
    "\n",
    "out=os.path.join(dpath,f\"GLAD_vertically_avg_Vs_{fdp}_to_{edp}_km.txt\")\n",
    "with open (out,'w') as fl:\n",
    "    for key,avg_vs in avg_Vs_dict.items():\n",
    "        lon,lat = key\n",
    "        fl.write(f'{lon} {lat} {avg_vs}\\n')\n",
    "        \n",
    "print(f\"\")\n",
    "print(f'Output file: {out}')\n",
    "print(f\"\")\n",
    "\n"
   ]
  },
  {
   "cell_type": "code",
   "execution_count": null,
   "id": "57813f28",
   "metadata": {},
   "outputs": [],
   "source": []
  }
 ],
 "metadata": {
  "kernelspec": {
   "display_name": "Python 3 (ipykernel)",
   "language": "python",
   "name": "python3"
  },
  "language_info": {
   "codemirror_mode": {
    "name": "ipython",
    "version": 3
   },
   "file_extension": ".py",
   "mimetype": "text/x-python",
   "name": "python",
   "nbconvert_exporter": "python",
   "pygments_lexer": "ipython3",
   "version": "3.9.12"
  }
 },
 "nbformat": 4,
 "nbformat_minor": 5
}
