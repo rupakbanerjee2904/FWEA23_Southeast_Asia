{
 "cells": [
  {
   "cell_type": "markdown",
   "id": "44f90f00",
   "metadata": {},
   "source": [
    "# Plotting histogram of he slow velocity of SE Asia excluding the KP"
   ]
  },
  {
   "cell_type": "code",
   "execution_count": 3,
   "id": "792591bf",
   "metadata": {},
   "outputs": [
    {
     "name": "stderr",
     "output_type": "stream",
     "text": [
      "The PostScript backend does not support transparency; partially transparent artists will be rendered opaque.\n"
     ]
    },
    {
     "name": "stdout",
     "output_type": "stream",
     "text": [
      "Reading /media/rupak/Rupak_4TB/BACKUPS/FWI/average_plot/abs_Vs/v5/vertical_avg/files/vertically_avg_Vs_100_to_220_km_SE_Asia_WITHOUT_KP\n",
      "\n",
      "vs > 4.47:\n",
      "lon:101.75 lat:16.499999999999996 vs:4.470596238379787\n",
      "vs > 4.47:\n",
      "lon:101.75 lat:16.749999999999996 vs:4.49254565808372\n",
      "vs > 4.47:\n",
      "lon:101.75 lat:16.999999999999996 vs:4.515664875237786\n",
      "vs > 4.47:\n",
      "lon:101.50000000000001 lat:17.249999999999996 vs:4.498622468564316\n",
      "vs > 4.47:\n",
      "lon:101.75 lat:17.249999999999996 vs:4.539405638811901\n",
      "vs > 4.47:\n",
      "lon:101.25 lat:17.499999999999996 vs:4.470193533742126\n",
      "vs > 4.47:\n",
      "lon:101.50000000000001 lat:17.499999999999996 vs:4.5136227264310875\n",
      "vs > 4.47:\n",
      "lon:101.75 lat:17.499999999999996 vs:4.5534924338226785\n",
      "vs > 4.47:\n",
      "lon:101.25 lat:17.749999999999996 vs:4.473009910183003\n",
      "vs > 4.47:\n",
      "lon:101.50000000000001 lat:17.749999999999996 vs:4.516570616496512\n",
      "vs > 4.47:\n",
      "lon:101.75 lat:17.749999999999996 vs:4.555848987722029\n",
      "vs > 4.47:\n",
      "lon:101.50000000000001 lat:17.999999999999996 vs:4.499620022963531\n",
      "vs > 4.47:\n",
      "lon:101.75 lat:17.999999999999996 vs:4.539996429430128\n",
      "vs > 4.47:\n",
      "lon:101.50000000000001 lat:18.249999999999996 vs:4.478031830253718\n",
      "vs > 4.47:\n",
      "lon:101.75 lat:18.249999999999996 vs:4.514413698906545\n",
      "vs > 4.47:\n",
      "lon:101.75 lat:18.499999999999993 vs:4.472514234430662\n",
      "\n",
      "MinVs:4.2108852807072195\n",
      "MaxVs:4.555848987722029\n",
      "No of bin with an interval of 0.01 is 34\n",
      "\n",
      "The spatial avergae of the vertiaclly averaged Vs from 100 to 220 is 4.357182555409826\n"
     ]
    },
    {
     "data": {
      "image/png": "[encoded data removed]",
      "text/plain": [
       "<Figure size 720x432 with 1 Axes>"
      ]
     },
     "metadata": {
      "needs_background": "light"
     },
     "output_type": "display_data"
    }
   ],
   "source": [
    "import os\n",
    "import numpy as np\n",
    "import matplotlib.pyplot as plt\n",
    "\n",
    "dpath=f'/media/rupak/Rupak_4TB/BACKUPS/MANUSCRIPTS_Rupak/SE_ASIA_MANU_DRAFTS/MERGED/Manu_figs_organised/text_fig/GitHub_upload/vertical_avg/files'\n",
    "fdp=100  #shallowest depth\n",
    "edp=220  #end of depth\n",
    "fname=os.path.join(dpath,f'vertically_avg_Vs_{fdp}_to_{edp}_km_SE_Asia_WITHOUT_KP')\n",
    "print(f\"Reading {fname}\")\n",
    "print(f\"\")\n",
    "\n",
    "##From the histogram there are a limited counts of >4.47 km/s. Lets see where those velo are\n",
    "vs_hi_cut=4.47\n",
    "vs_list=[]\n",
    "with open (fname,'r')as fi:\n",
    "    for li in fi:\n",
    "        row=li.strip().split()\n",
    "        vs=float(row[2])\n",
    "        lon=float(row[0])\n",
    "        lat=float(row[1])\n",
    "        #print(f\"lon:{lon} lat:{lat} vs:{vs}\")\n",
    "        if vs>vs_hi_cut:\n",
    "            print(f\"vs > {vs_hi_cut}:\")\n",
    "            print(f\"lon:{lon} lat:{lat} vs:{vs}\")\n",
    "        vs_list.append(vs)\n",
    "        \n",
    "        \n",
    "#array\n",
    "vs_array=np.array(vs_list)\n",
    "\n",
    "min_Vs=np.min(vs_array)\n",
    "max_Vs=np.max(vs_array)\n",
    "print(f\"\")\n",
    "print(f\"MinVs:{min_Vs}\")\n",
    "print(f\"MaxVs:{max_Vs}\")\n",
    "div=0.01\n",
    "bin=int((max_Vs-min_Vs)/div)\n",
    "print(f\"No of bin with an interval of {div} is {bin}\")\n",
    "print(f\"\")\n",
    "\n",
    "#find the mean, median\n",
    "mean=np.mean(vs_array)\n",
    "median=np.median(vs_array)\n",
    "print(f\"The spatial avergae of the vertiaclly averaged Vs from {fdp} to {edp} is {mean}\")\n",
    "\n",
    "#histogram\n",
    "plt.figure(figsize=(10,6))\n",
    "plt.hist(vs_array, bins=bin, edgecolor='black')\n",
    "plt.title(f\"mean Vs distribution ({fdp}-{edp} km)\")\n",
    "plt.xlabel(\"mean Vs (km/s)\", fontsize=18)\n",
    "plt.ylabel(\"counts\", fontsize=18)\n",
    "plt.text(0.05, 0.95, f'minVs = {min_Vs:.3f}', transform=plt.gca().transAxes,\n",
    "         fontsize=12, verticalalignment='top', bbox=dict(facecolor='white', alpha=0.5))\n",
    "plt.text(0.05, 0.88, f'maxVs = {max_Vs:.3f}', transform=plt.gca().transAxes,\n",
    "         fontsize=12, verticalalignment='top', bbox=dict(facecolor='white', alpha=0.5))\n",
    "plt.text(0.7, 0.95, f'Spatial average = {mean:.3f}', transform=plt.gca().transAxes,\n",
    "         fontsize=12, verticalalignment='top', bbox=dict(facecolor='white', alpha=0.5))\n",
    "plt.text(0.7, 0.88, f'median = {median:.3f}', transform=plt.gca().transAxes,\n",
    "         fontsize=12, verticalalignment='top', bbox=dict(facecolor='white', alpha=0.5))\n",
    "plt.savefig(os.path.join(dpath,f\"hist_vertically_avg_Vs_{fdp}_to_{edp}_km_SE_Asia_WITHOUT_KP.ps\"))\n",
    "plt.savefig(os.path.join(dpath,f\"hist_vertically_avg_Vs_{fdp}_to_{edp}_km_SE_Asia_WITHOUT_KP.png\"))\n",
    "plt.show()\n",
    "\n",
    "\n",
    "\n"
   ]
  },
  {
   "cell_type": "code",
   "execution_count": null,
   "id": "c4eb3364",
   "metadata": {},
   "outputs": [],
   "source": []
  }
 ],
 "metadata": {
  "kernelspec": {
   "display_name": "Python 3 (ipykernel)",
   "language": "python",
   "name": "python3"
  },
  "language_info": {
   "codemirror_mode": {
    "name": "ipython",
    "version": 3
   },
   "file_extension": ".py",
   "mimetype": "text/x-python",
   "name": "python",
   "nbconvert_exporter": "python",
   "pygments_lexer": "ipython3",
   "version": "3.9.12"
  }
 },
 "nbformat": 4,
 "nbformat_minor": 5
}
